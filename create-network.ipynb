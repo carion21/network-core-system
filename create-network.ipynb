{
 "cells": [
  {
   "cell_type": "code",
   "execution_count": 16,
   "metadata": {},
   "outputs": [],
   "source": [
    "import requests as rq\n",
    "import os\n",
    "import uuid\n",
    "import json\n",
    "import random\n",
    "from datetime import datetime, date, time\n",
    "from random_word import RandomWords\n"
   ]
  },
  {
   "cell_type": "code",
   "execution_count": 17,
   "metadata": {},
   "outputs": [],
   "source": [
    "DEFAULT_FIELD_TYPES = [\n",
    "    {\"label\": \"Simple Text\", \"value\": \"simple-text\"},\n",
    "    {\"label\": \"Long Text\", \"value\": \"long-text\"},\n",
    "    {\"label\": \"Email\", \"value\": \"email\"},\n",
    "    {\"label\": \"Uuid\", \"value\": \"uuid\"},\n",
    "    {\"label\": \"Number\", \"value\": \"number\"},\n",
    "    {\"label\": \"Integer\", \"value\": \"integer\"},\n",
    "    {\"label\": \"Float\", \"value\": \"float\"},\n",
    "    {\"label\": \"Date\", \"value\": \"date\"},\n",
    "    {\"label\": \"Time\", \"value\": \"time\"},\n",
    "    {\"label\": \"Datetime\", \"value\": \"datetime\"},\n",
    "    {\"label\": \"Boolean\", \"value\": \"boolean\"},\n",
    "    {\"label\": \"Select\", \"value\": \"select\"},\n",
    "]\n",
    "\n",
    "# USERNAME = \"contemptible-keeping\"\n",
    "# PASSWORD = \"y2ebP9TCisagk3CvCe8FILfczoAIBUUB\"\n",
    "# USERNAME = \"said-clipping\"\n",
    "# PASSWORD = \"aJ1EESCHFC3i2lUIXAES2gnVm4FqYjtb\"\n",
    "USERNAME = \"possessive-league\"\n",
    "PASSWORD = \"HyDyFLRzN0a2DyFI1p0x5lgTc2QNej1J\"\n",
    "\n",
    "BASE_URL = \"http://localhost:2525\"\n",
    "# BASE_URL = \"https://network-core-system-production.up.railway.app\"\n",
    "# BASE_URL = \"http://45.136.19.222:2525\"\n",
    "\n",
    "CREATE_INDIVIDUALS = True"
   ]
  },
  {
   "cell_type": "code",
   "execution_count": 18,
   "metadata": {},
   "outputs": [],
   "source": [
    "def create_timestamped_folder(suffix=\"folder\", base_path=\"data\"):\n",
    "    \"\"\"\n",
    "    Crée un dossier avec un nom contenant un préfixe et un horodatage au format YYYYMMDDHHMMSS.\n",
    "\n",
    "    Args:\n",
    "        prefix (str): Le préfixe du dossier.\n",
    "        base_path (str): Le chemin de base où créer le dossier. Par défaut, le dossier actuel.\n",
    "\n",
    "    Returns:\n",
    "        str: Le chemin complet du dossier créé.\n",
    "    \"\"\"\n",
    "    # Générer l'horodatage au format YYYYMMDDHHMMSS\n",
    "    timestamp = datetime.now().strftime(\"%Y%m%d%H%M%S\")\n",
    "    # Construire le nom du dossier\n",
    "    folder_name = f\"{timestamp}_{suffix}\"\n",
    "    folder_path = os.path.join(base_path, folder_name)\n",
    "    # Créer le dossier\n",
    "    os.makedirs(folder_path, exist_ok=True)\n",
    "    return folder_path\n",
    "\n",
    "def save_json(data, file_name):\n",
    "    with open(file_name, 'w') as f:\n",
    "        json.dump(data, f, indent=4)\n",
    "\n",
    "\n",
    "def load_json(file_name):\n",
    "    with open(file_name, 'r') as f:\n",
    "        return json.load(f)\n",
    "\n",
    "\n",
    "def get_random_word():\n",
    "    r = RandomWords()\n",
    "    return r.get_random_word()\n",
    "\n",
    "\n",
    "def generate_random_value(field_type):\n",
    "    # print('field_type', field_type)\n",
    "    if field_type == \"simple-text\":\n",
    "        return get_random_word()\n",
    "    elif field_type == \"long-text\":\n",
    "        return ' '.join(get_random_word() for _ in range(10))\n",
    "    elif field_type == \"email\":\n",
    "        return f\"{get_random_word()}@{get_random_word()}.com\"\n",
    "    elif field_type == \"uuid\":\n",
    "        return str(uuid.uuid4())\n",
    "    elif field_type == \"number\":\n",
    "        return random.uniform(1, 100)\n",
    "    elif field_type == \"integer\":\n",
    "        return random.randint(1, 100)\n",
    "    elif field_type == \"float\":\n",
    "        return round(random.uniform(1.0, 100.0), 2)\n",
    "    elif field_type == \"date\":\n",
    "        return date.today().isoformat()\n",
    "    elif field_type == \"time\":\n",
    "        return time(random.randint(0, 23), random.randint(0, 59), random.randint(0, 59)).isoformat()\n",
    "    elif field_type == \"datetime\":\n",
    "        return datetime.now().isoformat()\n",
    "    elif field_type == \"boolean\":\n",
    "        return random.choice([True, False])\n",
    "    elif field_type == \"select\":\n",
    "        return ';'.join(get_random_word() for _ in range(random.randint(1, 5)))\n",
    "    else:\n",
    "        raise ValueError(f\"Unsupported field type: {field_type}\")\n",
    "\n",
    "\n",
    "def make_get_request(url, jwt_token=None):\n",
    "    \"\"\"Make a get request to the given url with the given jwt token.\"\"\"\n",
    "    try:\n",
    "        if jwt_token:\n",
    "            headers = {'Authorization': 'Bearer ' + jwt_token}\n",
    "            response = rq.get(url, headers=headers)\n",
    "        else:\n",
    "            response = rq.get(url)\n",
    "        return response\n",
    "    except Exception as e:\n",
    "        print(e)\n",
    "        return None\n",
    "\n",
    "\n",
    "def make_post_request(url, data, jwt_token=None):\n",
    "    \"\"\"Make a post request to the given url with the given jwt token.\"\"\"\n",
    "    try:\n",
    "        if jwt_token:\n",
    "            headers = {'Authorization': 'Bearer ' + jwt_token}\n",
    "            response = rq.post(url, headers=headers, json=data)\n",
    "        else:\n",
    "            response = rq.post(url, json=data)\n",
    "        return response\n",
    "    except Exception as e:\n",
    "        print(e)\n",
    "        return None\n",
    "\n",
    "\n",
    "def make_patch_request(url, data, jwt_token=None):\n",
    "    \"\"\"Make a patch request to the given url with the given jwt token.\"\"\"\n",
    "    try:\n",
    "        if jwt_token:\n",
    "            headers = {'Authorization': 'Bearer ' + jwt_token}\n",
    "            response = rq.patch(url, headers=headers, data=data)\n",
    "        else:\n",
    "            response = rq.patch(url, data=data)\n",
    "        return response\n",
    "    except Exception as e:\n",
    "        print(e)\n",
    "        return None"
   ]
  },
  {
   "cell_type": "code",
   "execution_count": 19,
   "metadata": {},
   "outputs": [],
   "source": [
    "def create_entity(entity_name):\n",
    "    \"\"\"Create an entity with the given name.\"\"\"\n",
    "    url = f\"{BASE_URL}/entity\"\n",
    "    data = {\n",
    "        \"label\": entity_name,\n",
    "        \"description\": f\"Description of {entity_name}\",\n",
    "    }\n",
    "    response = make_post_request(url, data)\n",
    "    if response.status_code == 201:\n",
    "        print(f\"Entity {entity_name} created successfully.\")\n",
    "    else:\n",
    "        print(f\"Failed to create entity {entity_name}.\")\n",
    "    return response.json()\n",
    "\n",
    "\n",
    "def create_distribution_channel(channel_name, entity_id):\n",
    "    \"\"\"Create a distribution channel with the given name.\"\"\"\n",
    "    url = f\"{BASE_URL}/distribution-channel\"\n",
    "    data = {\n",
    "        \"entityId\": entity_id,\n",
    "        \"label\": channel_name,\n",
    "        \"description\": f\"Description of {channel_name}\",\n",
    "    }\n",
    "    response = make_post_request(url, data)\n",
    "    if response.status_code == 201:\n",
    "        print(f\"Distribution channel {channel_name} created successfully.\")\n",
    "    else:\n",
    "        print(f\"Failed to create distribution channel {channel_name}.\")\n",
    "    return response.json()\n",
    "\n",
    "\n",
    "def create_node_type(node_type_name, distribution_channel_id, node_type_parent_id=0):\n",
    "    \"\"\"Create a node type with the given name.\"\"\"\n",
    "    url = f\"{BASE_URL}/node-type\"\n",
    "    data = {\n",
    "        \"distributionChannelId\": distribution_channel_id,\n",
    "        \"label\": node_type_name,\n",
    "        \"description\": f\"Description of {node_type_name}\",\n",
    "        \"nodeTypeParentId\": node_type_parent_id,\n",
    "    }\n",
    "    response = make_post_request(url, data)\n",
    "    if response.status_code == 201:\n",
    "        print(f\"Node type {node_type_name} created successfully.\")\n",
    "    else:\n",
    "        print(f\"Failed to create node type {node_type_name}.\")\n",
    "    return response.json()\n",
    "\n",
    "def get_distribution_channel(distribution_channel_id):\n",
    "    \"\"\"Get the distribution channel with the given id.\"\"\"\n",
    "    url = f\"{BASE_URL}/distribution-channel/{distribution_channel_id}\"\n",
    "    response = make_get_request(url)\n",
    "    if response.status_code == 200:\n",
    "        print(f\"Distribution channel {distribution_channel_id} retrieved successfully.\")\n",
    "    else:\n",
    "        print(f\"Failed to retrieve distribution channel {distribution_channel_id}.\")\n",
    "    return response.json()\n",
    "\n",
    "def list_data_field_type():\n",
    "    \"\"\"List all data field types.\"\"\"\n",
    "    url = f\"{BASE_URL}/data-field-type\"\n",
    "    response = make_get_request(url)\n",
    "    if response.status_code == 200:\n",
    "        print(\"Data field types listed successfully.\")\n",
    "    else:\n",
    "        print(\"Failed to list data field types.\")\n",
    "    return response.json()\n",
    "\n",
    "def create_data_field(data_field_name, node_type_id, data_field_type, is_primary=False):\n",
    "    \"\"\"Create a data field with the given name.\"\"\"\n",
    "    url = f\"{BASE_URL}/data-field\"\n",
    "    data = {\n",
    "        \"nodeTypeId\": node_type_id,\n",
    "        \"dataFieldTypeId\": data_field_type.get(\"id\"),\n",
    "        \"isPrimaryKey\": is_primary,\n",
    "        \"label\": data_field_name,\n",
    "        \"description\": f\"Description of {data_field_name}\",\n",
    "        \"optionnal\": random.choice([True, False]),\n",
    "        \"fillingType\": random.choice([\"manual\", \"automatic\", \"mixed\"]),\n",
    "        \"defaultValue\": \"\",\n",
    "        \"exampleValue\": \"\",\n",
    "        \"selectValues\": generate_random_value(data_field_type.get(\"value\")) if data_field_type.get(\"value\") == \"select\" else \"\",\n",
    "    }\n",
    "    response = make_post_request(url, data)\n",
    "    if response.status_code == 201:\n",
    "        print(f\"Data field {data_field_name} created successfully.\")\n",
    "    else:\n",
    "        print(f\"Failed to create data field {data_field_name}.\")\n",
    "    return response.json()\n",
    "\n",
    "def get_node_type(node_type_id):\n",
    "    \"\"\"Get the node type with the given id.\"\"\"\n",
    "    url = f\"{BASE_URL}/node-type/{node_type_id}\"\n",
    "    response = make_get_request(url)\n",
    "    if response.status_code == 200:\n",
    "        print(f\"Node type {node_type_id} retrieved successfully.\")\n",
    "    else:\n",
    "        print(f\"Failed to retrieve node type {node_type_id}.\")\n",
    "    return response.json()\n",
    "\n",
    "\n",
    "def create_node(node_name, node_type_id, node_parent_id=0):\n",
    "    \"\"\"Create a node with the given name.\"\"\"\n",
    "    url = f\"{BASE_URL}/node\"\n",
    "    data = {\n",
    "        \"nodeTypeId\": node_type_id,\n",
    "        \"label\": node_name,\n",
    "        \"description\": f\"Description of {node_name}\",\n",
    "        \"nodeParentId\": node_parent_id,\n",
    "    }\n",
    "    response = make_post_request(url, data)\n",
    "    if response.status_code == 201:\n",
    "        print(f\"Node {node_name} created successfully.\")\n",
    "    else:\n",
    "        print(f\"Failed to create node {node_name}.\")\n",
    "    return response.json()\n",
    "\n",
    "def make_auth_request(username, password):\n",
    "    \"\"\"Make an auth request with the given username and password.\"\"\"\n",
    "    url = f\"{BASE_URL}/auth/signin\"\n",
    "    data = {\n",
    "        \"username\": username,\n",
    "        \"password\": password,\n",
    "    }\n",
    "    response = make_post_request(url, data)\n",
    "    if response.status_code == 201:\n",
    "        print(\"Auth request successful.\")\n",
    "    else:\n",
    "        print(\"Auth request failed.\")\n",
    "    return response.json()\n",
    "\n",
    "def create_individual(node_id, data, jwt_token):\n",
    "    \"\"\"Create an individual with the given data.\"\"\"\n",
    "    url = f\"{BASE_URL}/individual\"\n",
    "    data = {\n",
    "        \"nodeId\": node_id,\n",
    "        \"data\": data,\n",
    "    }\n",
    "    response = make_post_request(url, data, jwt_token)\n",
    "    if response.status_code == 201:\n",
    "        print(f\"Individual created successfully.\")\n",
    "    else:\n",
    "        print(f\"Failed to create individual.\")\n",
    "    return response.json()"
   ]
  },
  {
   "cell_type": "code",
   "execution_count": 20,
   "metadata": {},
   "outputs": [],
   "source": [
    "NODE_TYPE_NUMBER = 3\n",
    "DATA_FIELD_NUMBER = 3\n",
    "INDIVIDUAL_NUMBER = 10"
   ]
  },
  {
   "cell_type": "markdown",
   "metadata": {},
   "source": [
    "### CREATION D'UNE ENTITE"
   ]
  },
  {
   "cell_type": "code",
   "execution_count": 21,
   "metadata": {},
   "outputs": [
    {
     "name": "stdout",
     "output_type": "stream",
     "text": [
      "Folder created: data/20250123211020_illogic\n",
      "Entity illogic created successfully.\n"
     ]
    }
   ],
   "source": [
    "entity_name = get_random_word()\n",
    "\n",
    "folder_path = create_timestamped_folder(suffix=entity_name)\n",
    "print(f\"Folder created: {folder_path}\")\n",
    "\n",
    "r_entity = create_entity(entity_name)\n",
    "entity_data = r_entity.get(\"data\")\n",
    "save_json(r_entity, os.path.join(folder_path, \"entity.json\"))"
   ]
  },
  {
   "cell_type": "markdown",
   "metadata": {},
   "source": [
    "### CREATION D'UN RESEAU DE DISTRIBUTION"
   ]
  },
  {
   "cell_type": "code",
   "execution_count": 22,
   "metadata": {},
   "outputs": [
    {
     "name": "stdout",
     "output_type": "stream",
     "text": [
      "Distribution channel Channel illogic suggestion created successfully.\n"
     ]
    }
   ],
   "source": [
    "distribution_channel_name = f\"Channel {entity_name} {get_random_word()}\"\n",
    "\n",
    "r_distribution_channel = create_distribution_channel(distribution_channel_name, entity_data.get(\"id\"))\n",
    "\n",
    "distribution_channel_data = r_distribution_channel.get(\"data\")\n",
    "\n",
    "save_json(r_distribution_channel, os.path.join(folder_path, \"distribution_channel.json\"))"
   ]
  },
  {
   "cell_type": "markdown",
   "metadata": {},
   "source": [
    "### CREATION DES TYPES DE NOEUDS"
   ]
  },
  {
   "cell_type": "code",
   "execution_count": 23,
   "metadata": {},
   "outputs": [
    {
     "name": "stdout",
     "output_type": "stream",
     "text": [
      "Node type pivotman created successfully.\n",
      "Node type disforest created successfully.\n",
      "Node type protuberance created successfully.\n"
     ]
    }
   ],
   "source": [
    "node_type_datas = []\n",
    "\n",
    "node_type_parent_id = 0\n",
    "for i in range(NODE_TYPE_NUMBER):\n",
    "    node_type_name = get_random_word()\n",
    "\n",
    "    r_node_type = create_node_type(\n",
    "        node_type_name,\n",
    "        distribution_channel_data.get(\"id\"),\n",
    "        node_type_parent_id\n",
    "    )\n",
    "    node_type_data = r_node_type.get(\"data\")\n",
    "    node_type_datas.append(node_type_data)\n",
    "\n",
    "    node_type_parent_id = node_type_data.get(\"id\")\n",
    "\n",
    "    # juste utile pour debuggage\n",
    "    # save_json(r_node_type, os.path.join(folder_path, f\"node_type_{i}.json\"))"
   ]
  },
  {
   "cell_type": "markdown",
   "metadata": {},
   "source": [
    "### RECHARGEMENT DES INFORMATIONS DU RESEAU DE DISTRIBUTION"
   ]
  },
  {
   "cell_type": "code",
   "execution_count": 24,
   "metadata": {},
   "outputs": [
    {
     "name": "stdout",
     "output_type": "stream",
     "text": [
      "Distribution channel 4 retrieved successfully.\n"
     ]
    }
   ],
   "source": [
    "r_distribution_channel = get_distribution_channel(distribution_channel_data.get(\"id\"))\n",
    "save_json(r_distribution_channel, os.path.join(folder_path, \"distribution_channel.json\"))"
   ]
  },
  {
   "cell_type": "markdown",
   "metadata": {},
   "source": [
    "### LISTER LES TYPES DE CHAMPS DE DONNEES"
   ]
  },
  {
   "cell_type": "code",
   "execution_count": 25,
   "metadata": {},
   "outputs": [
    {
     "name": "stdout",
     "output_type": "stream",
     "text": [
      "Data field types listed successfully.\n"
     ]
    }
   ],
   "source": [
    "r_data_field_types = list_data_field_type()\n",
    "\n",
    "data_field_types = r_data_field_types.get(\"data\")\n",
    "\n",
    "save_json(r_data_field_types, os.path.join(folder_path, \"data_field_types.json\"))"
   ]
  },
  {
   "cell_type": "markdown",
   "metadata": {},
   "source": [
    "### CREATION DES CHAMPS DE DONNEES PAR TYPE DE NOEUD"
   ]
  },
  {
   "cell_type": "code",
   "execution_count": 26,
   "metadata": {},
   "outputs": [
    {
     "name": "stdout",
     "output_type": "stream",
     "text": [
      "Data field levelly created successfully.\n",
      "Data field unsorry created successfully.\n",
      "Data field phalluses created successfully.\n",
      "Node type 10 retrieved successfully.\n",
      "--------------------------------------------------\n",
      "Data field airbag created successfully.\n",
      "Data field lungwort created successfully.\n",
      "Data field reconsiders created successfully.\n",
      "Node type 11 retrieved successfully.\n",
      "--------------------------------------------------\n",
      "Data field overelaborately created successfully.\n",
      "Data field islandology created successfully.\n",
      "Data field kitties created successfully.\n",
      "Node type 12 retrieved successfully.\n",
      "--------------------------------------------------\n"
     ]
    }
   ],
   "source": [
    "for i, node_type_data in enumerate(node_type_datas):\n",
    "    for j in range(DATA_FIELD_NUMBER):\n",
    "        data_field_name = get_random_word()\n",
    "        data_field_type = random.choice(data_field_types)\n",
    "        r_data_field = create_data_field(data_field_name, node_type_data.get(\"id\"), data_field_type, is_primary=j == 0)\n",
    "        # juste utile pour debuggage\n",
    "        # save_json(r_data_field, os.path.join(folder_path, f\"data_field_{i}_{j}.json\"))\n",
    "\n",
    "    r_node_type = get_node_type(node_type_data.get(\"id\"))\n",
    "    save_json(r_node_type, os.path.join(folder_path, f\"node_type_{i}.json\"))\n",
    "    print('-'*50)"
   ]
  },
  {
   "cell_type": "markdown",
   "metadata": {},
   "source": [
    "### CREATION DES NOEUDS PAR NIVEAU (TYPE DE NOEUD)"
   ]
  },
  {
   "cell_type": "code",
   "execution_count": 27,
   "metadata": {},
   "outputs": [
    {
     "name": "stdout",
     "output_type": "stream",
     "text": [
      "Node Node pivotman arabinosic created successfully.\n",
      "Node Node pivotman fishline created successfully.\n",
      "Node type 10 retrieved successfully.\n",
      "--------------------------------------------------\n",
      "Node Node disforest anxiously created successfully.\n",
      "Node Node disforest postparalytic created successfully.\n",
      "Node Node disforest tablemount created successfully.\n",
      "Node type 11 retrieved successfully.\n",
      "--------------------------------------------------\n",
      "Node Node protuberance oculina created successfully.\n",
      "Node Node protuberance jargonisation created successfully.\n",
      "Node Node protuberance gorgonin created successfully.\n",
      "Node Node protuberance urethra created successfully.\n",
      "Node type 12 retrieved successfully.\n",
      "--------------------------------------------------\n"
     ]
    }
   ],
   "source": [
    "all_node_parents = []\n",
    "\n",
    "for i, node_type_data in enumerate(node_type_datas):\n",
    "    node_number = i + 2\n",
    "    node_parents = []\n",
    "\n",
    "    for j in range(node_number):\n",
    "        node_parent_id = 0\n",
    "        node_name = \"Node {} {}\".format(\n",
    "            node_type_data.get(\"label\"),\n",
    "            get_random_word()\n",
    "        )\n",
    "\n",
    "        if i > 0 and all_node_parents[i - 1]:\n",
    "            node_parent = random.choice(all_node_parents[i - 1])\n",
    "            node_parent_id = node_parent.get(\"id\")\n",
    "\n",
    "        r_node = create_node(\n",
    "            node_name, node_type_data.get(\"id\"), node_parent_id)\n",
    "        node_data = r_node.get(\"data\")\n",
    "        # juste utile pour debuggage\n",
    "        # save_json(r_node, os.path.join(folder_path, f\"node_{i}_{j}.json\"))\n",
    "\n",
    "        node_parents.append(node_data)\n",
    "\n",
    "    all_node_parents.append(node_parents)\n",
    "\n",
    "    r_node_type = get_node_type(node_type_data.get(\"id\"))\n",
    "    save_json(r_node_type, os.path.join(folder_path, f\"node_type_{i}.json\"))\n",
    "    print('-'*50)"
   ]
  },
  {
   "cell_type": "markdown",
   "metadata": {},
   "source": [
    "### AUTHENTIFICATION POUR INSERER LES DONNEES DES INDIVIDUS"
   ]
  },
  {
   "cell_type": "code",
   "execution_count": 28,
   "metadata": {},
   "outputs": [
    {
     "name": "stdout",
     "output_type": "stream",
     "text": [
      "Auth request successful.\n"
     ]
    }
   ],
   "source": [
    "r_auth = make_auth_request(USERNAME, PASSWORD)\n",
    "save_json(r_auth, os.path.join(folder_path, \"auth.json\"))\n",
    "jwt_token = r_auth.get(\"data\").get(\"accessToken\")"
   ]
  },
  {
   "cell_type": "markdown",
   "metadata": {},
   "source": [
    "### CREATION DES INDIVIDUS POUR PEUPLER LES NOEUDS"
   ]
  },
  {
   "cell_type": "code",
   "execution_count": 29,
   "metadata": {},
   "outputs": [
    {
     "name": "stdout",
     "output_type": "stream",
     "text": [
      "Individual created successfully.\n",
      "Individual created successfully.\n",
      "--------------------------------------------------\n",
      "Individual created successfully.\n",
      "Individual created successfully.\n",
      "Individual created successfully.\n",
      "--------------------------------------------------\n",
      "Failed to create individual.\n",
      "Failed to create individual.\n",
      "Failed to create individual.\n",
      "Failed to create individual.\n",
      "--------------------------------------------------\n"
     ]
    }
   ],
   "source": [
    "if CREATE_INDIVIDUALS:\n",
    "    for i in range(len(node_type_datas)):\n",
    "        r_node_type = load_json(os.path.join(\n",
    "            folder_path, f\"node_type_{i}.json\"))\n",
    "        node_type_data = r_node_type.get(\"data\")\n",
    "\n",
    "        nodes = node_type_data.get(\"Node\")\n",
    "        data_fields = node_type_data.get(\"DataField\")\n",
    "        # recuperer que ceux dont le fillingType est automatic ou mixed\n",
    "        data_fields = [data_field for data_field in data_fields if data_field.get(\n",
    "            \"fillingType\") in [\"automatic\", \"mixed\"]]\n",
    "\n",
    "        for j, node in enumerate(nodes):\n",
    "            data = {}\n",
    "            for data_field in data_fields:\n",
    "                data[data_field.get(\"slug\")] = generate_random_value(\n",
    "                    data_field.get(\"dataFieldType\").get(\"value\"))\n",
    "\n",
    "            r_individual = create_individual(node.get(\"id\"), data, jwt_token)\n",
    "            # juste utile pour debuggage\n",
    "            # save_json(r_individual, os.path.join(\n",
    "            #     folder_path, \"individual_of_{}.json\".format(node.get(\"value\"))))\n",
    "            # save_json(r_individual, os.path.join(\n",
    "            #     folder_path, f\"individual_{i}_{j}.json\"))\n",
    "\n",
    "        print('-'*50)"
   ]
  },
  {
   "cell_type": "code",
   "execution_count": 30,
   "metadata": {},
   "outputs": [],
   "source": [
    "# [\n",
    "#     {\n",
    "#         expanded: true,\n",
    "#         type: 'person',\n",
    "#         data: {\n",
    "#             name: 'Amy Elsner',\n",
    "#             title: 'CEO'\n",
    "#         },\n",
    "#         children: [\n",
    "#             {\n",
    "#                 expanded: true,\n",
    "#                 type: 'person',\n",
    "#                 data: {\n",
    "#                     name: 'Anna Fali',\n",
    "#                     title: 'CMO'\n",
    "#                 }\n",
    "#             },\n",
    "#             {\n",
    "#                 expanded: true,\n",
    "#                 type: 'person',\n",
    "#                 data: {\n",
    "#                     name: 'Stephen Shaw',\n",
    "#                     title: 'CTO'\n",
    "#                 }\n",
    "#             }\n",
    "#         ]\n",
    "#     }\n",
    "# ]"
   ]
  }
 ],
 "metadata": {
  "kernelspec": {
   "display_name": "base",
   "language": "python",
   "name": "python3"
  },
  "language_info": {
   "codemirror_mode": {
    "name": "ipython",
    "version": 3
   },
   "file_extension": ".py",
   "mimetype": "text/x-python",
   "name": "python",
   "nbconvert_exporter": "python",
   "pygments_lexer": "ipython3",
   "version": "3.10.9"
  }
 },
 "nbformat": 4,
 "nbformat_minor": 2
}
